{
 "cells": [
  {
   "cell_type": "markdown",
   "metadata": {},
   "source": [
    "## Purwadhika Data Science Final Project - Natural Language Processing ##\n",
    "\n",
    "[Text Emotion Dataset](https://github.com/meisaputri21/Indonesian-Twitter-Emotion-Dataset) is used for this project. This dataset will be used for train machine learning model to predict and classify the customer emotion.  \n",
    "  \n",
    "It consists of combining machine learning techniques with text using math and statistics to get that text in a format that the machine learning algorithms can understand."
   ]
  },
  {
   "cell_type": "code",
   "execution_count": 1,
   "metadata": {},
   "outputs": [],
   "source": [
    "\n",
    "import warnings\n",
    "warnings.filterwarnings(\"ignore\")\n",
    "import os\n",
    "from os import path\n",
    "from PIL import Image\n",
    "\n",
    "\n",
    "from sklearn.pipeline import Pipeline\n",
    "from sklearn.metrics import mean_absolute_error, mean_squared_error, mean_squared_log_error, median_absolute_error, r2_score\n",
    "\n",
    "\n",
    "from sklearn.metrics import confusion_matrix, accuracy_score, recall_score,precision_score, balanced_accuracy_score,f1_score\n",
    "from sklearn.metrics import precision_recall_fscore_support\n",
    "from sklearn.metrics import classification_report, jaccard_score\n",
    "# from sklearn.metrics import plot_confusion_matrix\n",
    "\n",
    "from sklearn.ensemble import RandomForestClassifier\n",
    "from sklearn import tree\n",
    "from sklearn.svm import SVC\n",
    "from sklearn.model_selection import GridSearchCV\n",
    "from sklearn.model_selection import RandomizedSearchCV\n",
    "from sklearn.naive_bayes import MultinomialNB\n",
    "from sklearn.preprocessing import LabelEncoder\n",
    "\n",
    "from sklearn.feature_extraction.text import TfidfVectorizer"
   ]
  },
  {
   "cell_type": "markdown",
   "metadata": {},
   "source": [
    "### Check out the data\n"
   ]
  },
  {
   "cell_type": "code",
   "execution_count": 2,
   "metadata": {},
   "outputs": [],
   "source": [
    "import pandas as pd\n",
    "import numpy as np"
   ]
  },
  {
   "cell_type": "code",
   "execution_count": 3,
   "metadata": {},
   "outputs": [
    {
     "data": {
      "text/plain": [
       "4401"
      ]
     },
     "execution_count": 3,
     "metadata": {},
     "output_type": "execute_result"
    }
   ],
   "source": [
    "df= pd.read_csv('data/Twitter_Emotion_Dataset.csv')\n",
    "df.head(5)\n",
    "len(df)"
   ]
  },
  {
   "cell_type": "code",
   "execution_count": 4,
   "metadata": {},
   "outputs": [
    {
     "name": "stdout",
     "output_type": "stream",
     "text": [
      "<class 'pandas.core.frame.DataFrame'>\n",
      "RangeIndex: 4401 entries, 0 to 4400\n",
      "Data columns (total 2 columns):\n",
      "label    4401 non-null object\n",
      "tweet    4401 non-null object\n",
      "dtypes: object(2)\n",
      "memory usage: 34.4+ KB\n"
     ]
    }
   ],
   "source": [
    "df.info()"
   ]
  },
  {
   "cell_type": "markdown",
   "metadata": {},
   "source": [
    "\n",
    "__Let's use groupby to use describe by Category, this way we can begin to think about the features that separate ham and spam!__\n"
   ]
  },
  {
   "cell_type": "code",
   "execution_count": 5,
   "metadata": {},
   "outputs": [],
   "source": [
    "import matplotlib.pyplot as plt\n",
    "import seaborn as sb\n",
    "%matplotlib inline"
   ]
  },
  {
   "cell_type": "code",
   "execution_count": 6,
   "metadata": {},
   "outputs": [
    {
     "data": {
      "text/html": [
       "<div>\n",
       "<style scoped>\n",
       "    .dataframe tbody tr th:only-of-type {\n",
       "        vertical-align: middle;\n",
       "    }\n",
       "\n",
       "    .dataframe tbody tr th {\n",
       "        vertical-align: top;\n",
       "    }\n",
       "\n",
       "    .dataframe thead tr th {\n",
       "        text-align: left;\n",
       "    }\n",
       "\n",
       "    .dataframe thead tr:last-of-type th {\n",
       "        text-align: right;\n",
       "    }\n",
       "</style>\n",
       "<table border=\"1\" class=\"dataframe\">\n",
       "  <thead>\n",
       "    <tr>\n",
       "      <th></th>\n",
       "      <th colspan=\"4\" halign=\"left\">tweet</th>\n",
       "    </tr>\n",
       "    <tr>\n",
       "      <th></th>\n",
       "      <th>count</th>\n",
       "      <th>unique</th>\n",
       "      <th>top</th>\n",
       "      <th>freq</th>\n",
       "    </tr>\n",
       "    <tr>\n",
       "      <th>label</th>\n",
       "      <th></th>\n",
       "      <th></th>\n",
       "      <th></th>\n",
       "      <th></th>\n",
       "    </tr>\n",
       "  </thead>\n",
       "  <tbody>\n",
       "    <tr>\n",
       "      <th>anger</th>\n",
       "      <td>1101</td>\n",
       "      <td>1100</td>\n",
       "      <td>belajar agama yg tuntas jd nga ngarang dalam h...</td>\n",
       "      <td>2</td>\n",
       "    </tr>\n",
       "    <tr>\n",
       "      <th>fear</th>\n",
       "      <td>649</td>\n",
       "      <td>646</td>\n",
       "      <td>Melihat Fotonya Saja Bikin Ngeri, Apalagi Meng...</td>\n",
       "      <td>2</td>\n",
       "    </tr>\n",
       "    <tr>\n",
       "      <th>happy</th>\n",
       "      <td>1017</td>\n",
       "      <td>1012</td>\n",
       "      <td>[USERNAME] Selamat Siang Sahabat Pos. Kiriman ...</td>\n",
       "      <td>4</td>\n",
       "    </tr>\n",
       "    <tr>\n",
       "      <th>love</th>\n",
       "      <td>637</td>\n",
       "      <td>636</td>\n",
       "      <td>Walaupun kita jauh secara fisik, kita tahu kit...</td>\n",
       "      <td>2</td>\n",
       "    </tr>\n",
       "    <tr>\n",
       "      <th>sadness</th>\n",
       "      <td>997</td>\n",
       "      <td>996</td>\n",
       "      <td>Turut sepenanggungan atas meninggalnya dr. Ram...</td>\n",
       "      <td>2</td>\n",
       "    </tr>\n",
       "  </tbody>\n",
       "</table>\n",
       "</div>"
      ],
      "text/plain": [
       "        tweet                                                               \n",
       "        count unique                                                top freq\n",
       "label                                                                       \n",
       "anger    1101   1100  belajar agama yg tuntas jd nga ngarang dalam h...    2\n",
       "fear      649    646  Melihat Fotonya Saja Bikin Ngeri, Apalagi Meng...    2\n",
       "happy    1017   1012  [USERNAME] Selamat Siang Sahabat Pos. Kiriman ...    4\n",
       "love      637    636  Walaupun kita jauh secara fisik, kita tahu kit...    2\n",
       "sadness   997    996  Turut sepenanggungan atas meninggalnya dr. Ram...    2"
      ]
     },
     "execution_count": 6,
     "metadata": {},
     "output_type": "execute_result"
    }
   ],
   "source": [
    "df.groupby('label').describe()\n"
   ]
  },
  {
   "cell_type": "markdown",
   "metadata": {},
   "source": [
    "Let's make a new column to detect how long the text messages are"
   ]
  },
  {
   "cell_type": "code",
   "execution_count": 7,
   "metadata": {},
   "outputs": [
    {
     "data": {
      "text/html": [
       "<div>\n",
       "<style scoped>\n",
       "    .dataframe tbody tr th:only-of-type {\n",
       "        vertical-align: middle;\n",
       "    }\n",
       "\n",
       "    .dataframe tbody tr th {\n",
       "        vertical-align: top;\n",
       "    }\n",
       "\n",
       "    .dataframe thead th {\n",
       "        text-align: right;\n",
       "    }\n",
       "</style>\n",
       "<table border=\"1\" class=\"dataframe\">\n",
       "  <thead>\n",
       "    <tr style=\"text-align: right;\">\n",
       "      <th></th>\n",
       "      <th>label</th>\n",
       "      <th>tweet</th>\n",
       "      <th>Length</th>\n",
       "    </tr>\n",
       "  </thead>\n",
       "  <tbody>\n",
       "    <tr>\n",
       "      <th>0</th>\n",
       "      <td>anger</td>\n",
       "      <td>Soal jln Jatibaru,polisi tdk bs GERTAK gubernu...</td>\n",
       "      <td>220</td>\n",
       "    </tr>\n",
       "    <tr>\n",
       "      <th>1</th>\n",
       "      <td>anger</td>\n",
       "      <td>Sesama cewe lho (kayaknya), harusnya bisa lebi...</td>\n",
       "      <td>235</td>\n",
       "    </tr>\n",
       "    <tr>\n",
       "      <th>2</th>\n",
       "      <td>happy</td>\n",
       "      <td>Kepingin gudeg mbarek Bu hj. Amad Foto dari go...</td>\n",
       "      <td>116</td>\n",
       "    </tr>\n",
       "    <tr>\n",
       "      <th>3</th>\n",
       "      <td>anger</td>\n",
       "      <td>Jln Jatibaru,bagian dari wilayah Tn Abang.Peng...</td>\n",
       "      <td>250</td>\n",
       "    </tr>\n",
       "    <tr>\n",
       "      <th>4</th>\n",
       "      <td>happy</td>\n",
       "      <td>Sharing pengalaman aja, kemarin jam 18.00 bata...</td>\n",
       "      <td>203</td>\n",
       "    </tr>\n",
       "  </tbody>\n",
       "</table>\n",
       "</div>"
      ],
      "text/plain": [
       "   label                                              tweet  Length\n",
       "0  anger  Soal jln Jatibaru,polisi tdk bs GERTAK gubernu...     220\n",
       "1  anger  Sesama cewe lho (kayaknya), harusnya bisa lebi...     235\n",
       "2  happy  Kepingin gudeg mbarek Bu hj. Amad Foto dari go...     116\n",
       "3  anger  Jln Jatibaru,bagian dari wilayah Tn Abang.Peng...     250\n",
       "4  happy  Sharing pengalaman aja, kemarin jam 18.00 bata...     203"
      ]
     },
     "execution_count": 7,
     "metadata": {},
     "output_type": "execute_result"
    }
   ],
   "source": [
    "df['Length'] = df['tweet'].apply(len)\n",
    "# df['label'].unique()\n",
    "df.head()"
   ]
  },
  {
   "cell_type": "markdown",
   "metadata": {},
   "source": [
    "Let's see the percentage of ham and spam in our dataset"
   ]
  },
  {
   "cell_type": "markdown",
   "metadata": {},
   "source": [
    "### Train Test Split"
   ]
  },
  {
   "cell_type": "code",
   "execution_count": 8,
   "metadata": {},
   "outputs": [],
   "source": [
    "from sklearn.model_selection import train_test_split"
   ]
  },
  {
   "cell_type": "code",
   "execution_count": 9,
   "metadata": {},
   "outputs": [],
   "source": [
    "y = df.iloc[:,0].values\n",
    "x= df['tweet']\n",
    "xtr, xts, ytr, yts = train_test_split(x ,y,test_size = 0.25,random_state=42)\n",
    "# print(len(xtr))\n",
    "# print(len(xts))\n",
    "# df['label'].unique()"
   ]
  },
  {
   "cell_type": "markdown",
   "metadata": {},
   "source": [
    "## Training a Model ##\n",
    "I using **scikit-learn's** [pipeline](http://scikit-learn.org/stable/modules/pipeline.html) to store a pipeline of workflow. This will allow me to set up all the transformations that we will do to the data for future use."
   ]
  },
  {
   "cell_type": "markdown",
   "metadata": {},
   "source": [
    "The process of pipeline include:\n",
    "- Using **CountVectorizer** to convert those tweet into a matrix of token counts.\n",
    "- Using **TfidfTransformer** to measures how frequent a term occurs in a document and measures how important a term is.\n",
    "- Last step of the pipeline is decide the machine learning for the classifier."
   ]
  },
  {
   "cell_type": "code",
   "execution_count": 10,
   "metadata": {},
   "outputs": [],
   "source": [
    "from sklearn import metrics\n",
    "from sklearn.feature_extraction.text import CountVectorizer \n",
    "from sklearn.feature_extraction.text import TfidfTransformer"
   ]
  },
  {
   "cell_type": "markdown",
   "metadata": {},
   "source": [
    "### Model with Default Parameters ###"
   ]
  },
  {
   "cell_type": "code",
   "execution_count": 11,
   "metadata": {},
   "outputs": [],
   "source": [
    "pipelineNB = Pipeline([\n",
    "    ('cv',CountVectorizer()),\n",
    "    ('tfidf',TfidfTransformer()),\n",
    "    ('classifier',MultinomialNB())\n",
    "])"
   ]
  },
  {
   "cell_type": "code",
   "execution_count": 12,
   "metadata": {},
   "outputs": [],
   "source": [
    "pipelineNB.fit(xtr,ytr)\n",
    "prediksi = pipelineNB.predict(xts)"
   ]
  },
  {
   "cell_type": "code",
   "execution_count": 13,
   "metadata": {},
   "outputs": [],
   "source": [
    "pipeline_Random2 = Pipeline([\n",
    "    ('bow', CountVectorizer()),  # strings to token integer counts\n",
    "    ('tfidf',TfidfTransformer()),\n",
    "    ('classifier', RandomForestClassifier()),  # train on Count vectors with Random Forest\n",
    "])\n",
    "\n",
    "pipeline_SVC2 = Pipeline([\n",
    "    ('cv', CountVectorizer()),  # strings to token integer counts\n",
    "    ('tfidf',TfidfTransformer()),\n",
    "    ('classifier', SVC()),  # train on Count vectors with Random Forest\n",
    "])"
   ]
  },
  {
   "cell_type": "code",
   "execution_count": 37,
   "metadata": {},
   "outputs": [],
   "source": [
    "pipeline_Random2.fit(xtr,ytr)\n",
    "pipeline_SVC2.fit(xtr,ytr)\n",
    "\n",
    "prediksiNBW = pipelineNB.predict(xts)\n",
    "prediksiRFW= pipeline_Random2.predict(xts)\n",
    "prediksiSVCW= pipeline_SVC2.predict(xts)\n",
    "\n"
   ]
  },
  {
   "cell_type": "code",
   "execution_count": 38,
   "metadata": {},
   "outputs": [
    {
     "name": "stdout",
     "output_type": "stream",
     "text": [
      "              precision    recall  f1-score   support\n",
      "\n",
      "       anger       0.55      0.86      0.67       288\n",
      "        fear       1.00      0.23      0.37       153\n",
      "       happy       0.71      0.58      0.64       262\n",
      "        love       0.89      0.32      0.48       154\n",
      "     sadness       0.44      0.64      0.52       244\n",
      "\n",
      "    accuracy                           0.58      1101\n",
      "   macro avg       0.72      0.53      0.54      1101\n",
      "weighted avg       0.68      0.58      0.56      1101\n",
      "\n",
      "              precision    recall  f1-score   support\n",
      "\n",
      "       anger       0.55      0.71      0.62       288\n",
      "        fear       0.87      0.65      0.74       153\n",
      "       happy       0.68      0.51      0.58       262\n",
      "        love       0.76      0.79      0.77       154\n",
      "     sadness       0.45      0.48      0.46       244\n",
      "\n",
      "    accuracy                           0.61      1101\n",
      "   macro avg       0.66      0.63      0.64      1101\n",
      "weighted avg       0.63      0.61      0.62      1101\n",
      "\n",
      "              precision    recall  f1-score   support\n",
      "\n",
      "       anger       0.62      0.76      0.68       288\n",
      "        fear       0.91      0.52      0.66       153\n",
      "       happy       0.66      0.60      0.63       262\n",
      "        love       0.87      0.67      0.75       154\n",
      "     sadness       0.47      0.58      0.52       244\n",
      "\n",
      "    accuracy                           0.63      1101\n",
      "   macro avg       0.70      0.62      0.65      1101\n",
      "weighted avg       0.67      0.63      0.64      1101\n",
      "\n"
     ]
    }
   ],
   "source": [
    "print(classification_report(yts,prediksiNBW))\n",
    "print(classification_report(yts,prediksiRFW))\n",
    "print(classification_report(yts,prediksiSVCW))\n"
   ]
  },
  {
   "cell_type": "markdown",
   "metadata": {},
   "source": [
    "### Hyperparameter Tuning ### "
   ]
  },
  {
   "cell_type": "markdown",
   "metadata": {},
   "source": [
    "#### Random Forest ####"
   ]
  },
  {
   "cell_type": "code",
   "execution_count": 17,
   "metadata": {},
   "outputs": [
    {
     "name": "stdout",
     "output_type": "stream",
     "text": [
      "Fitting 3 folds for each of 432 candidates, totalling 1296 fits\n"
     ]
    },
    {
     "name": "stderr",
     "output_type": "stream",
     "text": [
      "[Parallel(n_jobs=-1)]: Using backend LokyBackend with 4 concurrent workers.\n",
      "[Parallel(n_jobs=-1)]: Done  42 tasks      | elapsed:   19.3s\n",
      "[Parallel(n_jobs=-1)]: Done 192 tasks      | elapsed:  1.3min\n",
      "[Parallel(n_jobs=-1)]: Done 442 tasks      | elapsed:  3.4min\n",
      "[Parallel(n_jobs=-1)]: Done 792 tasks      | elapsed:  7.2min\n",
      "[Parallel(n_jobs=-1)]: Done 1242 tasks      | elapsed: 12.9min\n",
      "[Parallel(n_jobs=-1)]: Done 1296 out of 1296 | elapsed: 13.7min finished\n"
     ]
    },
    {
     "data": {
      "text/plain": [
       "GridSearchCV(cv=3, error_score=nan,\n",
       "             estimator=Pipeline(memory=None,\n",
       "                                steps=[('bow',\n",
       "                                        CountVectorizer(analyzer='word',\n",
       "                                                        binary=False,\n",
       "                                                        decode_error='strict',\n",
       "                                                        dtype=<class 'numpy.int64'>,\n",
       "                                                        encoding='utf-8',\n",
       "                                                        input='content',\n",
       "                                                        lowercase=True,\n",
       "                                                        max_df=1.0,\n",
       "                                                        max_features=None,\n",
       "                                                        min_df=1,\n",
       "                                                        ngram_range=(1, 1),\n",
       "                                                        preprocessor=None,\n",
       "                                                        stop_words=None,\n",
       "                                                        strip_accents=None,\n",
       "                                                        token_pattern='(?u)\\...\n",
       "             iid='deprecated', n_jobs=-1,\n",
       "             param_grid={'classifier__bootstrap': [True, False],\n",
       "                         'classifier__max_depth': [10, 20, 30, None],\n",
       "                         'classifier__max_features': ['auto', 'sqrt'],\n",
       "                         'classifier__min_samples_leaf': [1, 2, 4],\n",
       "                         'classifier__min_samples_split': [2, 5, 10],\n",
       "                         'classifier__n_estimators': array([100, 200, 300])},\n",
       "             pre_dispatch='2*n_jobs', refit=True, return_train_score=False,\n",
       "             scoring=None, verbose=1)"
      ]
     },
     "execution_count": 17,
     "metadata": {},
     "output_type": "execute_result"
    }
   ],
   "source": [
    "# Number of trees in random forest\n",
    "n_estimators = np.arange(100,400,100)\n",
    "# Number of features to consider at every split\n",
    "max_features = ['auto', 'sqrt']\n",
    "# Maximum number of levels in tree\n",
    "max_depth = [10,20,30, None]\n",
    "# Minimum number of samples required to split a node\n",
    "min_samples_split = [2, 5, 10]\n",
    "# Minimum number of samples required at each leaf node\n",
    "min_samples_leaf = [1, 2, 4]\n",
    "# Method of selecting samples for training each tree\n",
    "bootstrap = [True, False]\n",
    "\n",
    "random_grid = {'classifier__n_estimators': n_estimators,\n",
    "               'classifier__max_features': max_features,\n",
    "               'classifier__max_depth': max_depth,\n",
    "               'classifier__min_samples_split': min_samples_split,\n",
    "               'classifier__min_samples_leaf' : min_samples_leaf,\n",
    "               'classifier__bootstrap' : bootstrap\n",
    "              }\n",
    "BestParamsforest= GridSearchCV(pipeline_Random2, random_grid, cv=3, n_jobs= -1, verbose=1)\n",
    "BestParamsforest.fit(xtr,ytr)"
   ]
  },
  {
   "cell_type": "code",
   "execution_count": 18,
   "metadata": {},
   "outputs": [
    {
     "data": {
      "text/plain": [
       "{'classifier__bootstrap': False,\n",
       " 'classifier__max_depth': None,\n",
       " 'classifier__max_features': 'auto',\n",
       " 'classifier__min_samples_leaf': 2,\n",
       " 'classifier__min_samples_split': 2,\n",
       " 'classifier__n_estimators': 200}"
      ]
     },
     "execution_count": 18,
     "metadata": {},
     "output_type": "execute_result"
    }
   ],
   "source": [
    "BestParamsforest.best_params_"
   ]
  },
  {
   "cell_type": "markdown",
   "metadata": {},
   "source": [
    "#### Support Vector classification ####"
   ]
  },
  {
   "cell_type": "code",
   "execution_count": 19,
   "metadata": {},
   "outputs": [
    {
     "name": "stdout",
     "output_type": "stream",
     "text": [
      "Fitting 3 folds for each of 100 candidates, totalling 300 fits\n"
     ]
    },
    {
     "name": "stderr",
     "output_type": "stream",
     "text": [
      "[Parallel(n_jobs=-1)]: Using backend LokyBackend with 4 concurrent workers.\n",
      "[Parallel(n_jobs=-1)]: Done  42 tasks      | elapsed:   53.2s\n",
      "[Parallel(n_jobs=-1)]: Done 192 tasks      | elapsed:  3.9min\n",
      "[Parallel(n_jobs=-1)]: Done 300 out of 300 | elapsed:  6.2min finished\n"
     ]
    },
    {
     "data": {
      "text/plain": [
       "GridSearchCV(cv=3, error_score=nan,\n",
       "             estimator=Pipeline(memory=None,\n",
       "                                steps=[('cv',\n",
       "                                        CountVectorizer(analyzer='word',\n",
       "                                                        binary=False,\n",
       "                                                        decode_error='strict',\n",
       "                                                        dtype=<class 'numpy.int64'>,\n",
       "                                                        encoding='utf-8',\n",
       "                                                        input='content',\n",
       "                                                        lowercase=True,\n",
       "                                                        max_df=1.0,\n",
       "                                                        max_features=None,\n",
       "                                                        min_df=1,\n",
       "                                                        ngram_range=(1, 1),\n",
       "                                                        preprocessor=None,\n",
       "                                                        stop_words=None,\n",
       "                                                        strip_accents=None,\n",
       "                                                        token_pattern='(?u)\\\\...\n",
       "                                            probability=False,\n",
       "                                            random_state=None, shrinking=True,\n",
       "                                            tol=0.001, verbose=False))],\n",
       "                                verbose=False),\n",
       "             iid='deprecated', n_jobs=-1,\n",
       "             param_grid={'classifier__C': [0.1, 1, 10, 100, 1000],\n",
       "                         'classifier__gamma': [1, 0.1, 0.01, 0.001, 0.0001],\n",
       "                         'classifier__kernel': ['linear', 'poly', 'rbf',\n",
       "                                                'sigmoid']},\n",
       "             pre_dispatch='2*n_jobs', refit=True, return_train_score=False,\n",
       "             scoring=None, verbose=1)"
      ]
     },
     "execution_count": 19,
     "metadata": {},
     "output_type": "execute_result"
    }
   ],
   "source": [
    "random_grid = {'classifier__C': [ 0.1,1, 10, 100, 1000],\n",
    "               'classifier__gamma': [1, 0.1, 0.01, 0.001, 0.0001],\n",
    "               'classifier__kernel': ['linear', 'poly', 'rbf', 'sigmoid']}\n",
    "BestParamsSVC= GridSearchCV(pipeline_SVC2, random_grid, cv=3, n_jobs= -1, verbose=1)\n",
    "BestParamsSVC.fit(xtr,ytr)"
   ]
  },
  {
   "cell_type": "code",
   "execution_count": 20,
   "metadata": {},
   "outputs": [
    {
     "data": {
      "text/plain": [
       "{'classifier__C': 1, 'classifier__gamma': 1, 'classifier__kernel': 'linear'}"
      ]
     },
     "execution_count": 20,
     "metadata": {},
     "output_type": "execute_result"
    }
   ],
   "source": [
    "BestParamsSVC.best_params_"
   ]
  },
  {
   "cell_type": "code",
   "execution_count": 22,
   "metadata": {},
   "outputs": [
    {
     "name": "stdout",
     "output_type": "stream",
     "text": [
      "Accuracy: 0.6176203451407811\n",
      "Accuracy: 0.6348773841961853\n"
     ]
    }
   ],
   "source": [
    "Forest_prediksi = BestParamsforest.predict(xts)\n",
    "SVC_prediksi = BestParamsSVC.predict(xts)\n",
    "print(\"Accuracy:\",metrics.accuracy_score(prediksiRFW,yts))\n",
    "print(\"Accuracy:\",metrics.accuracy_score(prediksiSVCW,yts))"
   ]
  },
  {
   "cell_type": "markdown",
   "metadata": {},
   "source": [
    "## Improve Machine Learning Model ##\n",
    "My assumptions is that **TfidfTransformer** make the model the worse than its hould be and now I am exclude the _Tfidf_ from the pipeline and trying to use other classifier model to see how each of the model works."
   ]
  },
  {
   "cell_type": "code",
   "execution_count": 30,
   "metadata": {},
   "outputs": [],
   "source": [
    "\n",
    "pipeline_RandomForest = Pipeline([\n",
    "    ('bow', CountVectorizer()),  # strings to token integer counts\n",
    "     ('tfidf',TfidfTransformer()),\n",
    "    ('classifier', RandomForestClassifier(max_depth= None, max_features= 'auto', n_estimators= 200, bootstrap= False,min_samples_leaf=2, min_samples_split=2 )),  # train on TF-IDF vectors with Random Forest\n",
    "])\n",
    "\n",
    "pipeline_SVC = Pipeline([\n",
    "    ('cv', CountVectorizer()),  # strings to token integer counts\n",
    "     ('tfidf',TfidfTransformer()),\n",
    "    ('classifier', SVC(C= 1, gamma= 1, kernel= 'linear',probability=True)),  # train on TF-IDF vectors with Random Forest\n",
    "])"
   ]
  },
  {
   "cell_type": "code",
   "execution_count": 31,
   "metadata": {},
   "outputs": [
    {
     "data": {
      "text/plain": [
       "Pipeline(memory=None,\n",
       "         steps=[('cv',\n",
       "                 CountVectorizer(analyzer='word', binary=False,\n",
       "                                 decode_error='strict',\n",
       "                                 dtype=<class 'numpy.int64'>, encoding='utf-8',\n",
       "                                 input='content', lowercase=True, max_df=1.0,\n",
       "                                 max_features=None, min_df=1,\n",
       "                                 ngram_range=(1, 1), preprocessor=None,\n",
       "                                 stop_words=None, strip_accents=None,\n",
       "                                 token_pattern='(?u)\\\\b\\\\w\\\\w+\\\\b',\n",
       "                                 tokenizer=None, vocabulary=None)),\n",
       "                ('tfidf',\n",
       "                 TfidfTransformer(norm='l2', smooth_idf=True,\n",
       "                                  sublinear_tf=False, use_idf=True)),\n",
       "                ('classifier',\n",
       "                 SVC(C=1, break_ties=False, cache_size=200, class_weight=None,\n",
       "                     coef0=0.0, decision_function_shape='ovr', degree=3,\n",
       "                     gamma=1, kernel='linear', max_iter=-1, probability=True,\n",
       "                     random_state=None, shrinking=True, tol=0.001,\n",
       "                     verbose=False))],\n",
       "         verbose=False)"
      ]
     },
     "execution_count": 31,
     "metadata": {},
     "output_type": "execute_result"
    }
   ],
   "source": [
    "multinomial_pipeline.fit(xtr,ytr)\n",
    "pipeline_RandomForest.fit(xtr,ytr)\n",
    "pipeline_SVC.fit(xtr,ytr)\n"
   ]
  },
  {
   "cell_type": "code",
   "execution_count": 34,
   "metadata": {},
   "outputs": [],
   "source": [
    "Forest_prediksi = pipeline_RandomForest.predict(xts)\n",
    "SVC_prediksi = pipeline_SVC.predict(xts)"
   ]
  },
  {
   "cell_type": "markdown",
   "metadata": {},
   "source": [
    "#### Random Forest ####"
   ]
  },
  {
   "cell_type": "code",
   "execution_count": 35,
   "metadata": {},
   "outputs": [
    {
     "name": "stdout",
     "output_type": "stream",
     "text": [
      "              precision    recall  f1-score   support\n",
      "\n",
      "       anger       0.59      0.68      0.63       288\n",
      "        fear       0.86      0.62      0.72       153\n",
      "       happy       0.64      0.58      0.61       262\n",
      "        love       0.77      0.80      0.78       154\n",
      "     sadness       0.49      0.51      0.50       244\n",
      "\n",
      "    accuracy                           0.63      1101\n",
      "   macro avg       0.67      0.64      0.65      1101\n",
      "weighted avg       0.64      0.63      0.63      1101\n",
      "\n"
     ]
    },
    {
     "data": {
      "text/plain": [
       "Text(0.5, 15.0, 'Predicted label')"
      ]
     },
     "execution_count": 35,
     "metadata": {},
     "output_type": "execute_result"
    },
    {
     "data": {
      "image/png": "[encoded data removed]",
      "text/plain": [
       "<Figure size 432x288 with 2 Axes>"
      ]
     },
     "metadata": {
      "needs_background": "light"
     },
     "output_type": "display_data"
    }
   ],
   "source": [
    "print(classification_report(yts,Forest_prediksi))\n",
    "\n",
    "cm2 = confusion_matrix(yts,Forest_prediksi)\n",
    "sb.heatmap(pd.DataFrame(cm2),annot=True, cmap=\"BuPu\" ,fmt='g')\n",
    "plt.tight_layout()\n",
    "plt.title('Confusion matrix Random Forest', y=1.1)\n",
    "plt.ylabel('Actual label')\n",
    "plt.xlabel('Predicted label')"
   ]
  },
  {
   "cell_type": "markdown",
   "metadata": {},
   "source": [
    "#### Support Vector Machine ####"
   ]
  },
  {
   "cell_type": "code",
   "execution_count": 36,
   "metadata": {},
   "outputs": [
    {
     "name": "stdout",
     "output_type": "stream",
     "text": [
      "              precision    recall  f1-score   support\n",
      "\n",
      "       anger       0.64      0.73      0.68       288\n",
      "        fear       0.82      0.61      0.70       153\n",
      "       happy       0.66      0.63      0.64       262\n",
      "        love       0.78      0.73      0.76       154\n",
      "     sadness       0.50      0.54      0.52       244\n",
      "\n",
      "    accuracy                           0.65      1101\n",
      "   macro avg       0.68      0.65      0.66      1101\n",
      "weighted avg       0.66      0.65      0.65      1101\n",
      "\n"
     ]
    },
    {
     "data": {
      "text/plain": [
       "Text(0.5, 15.0, 'Predicted label')"
      ]
     },
     "execution_count": 36,
     "metadata": {},
     "output_type": "execute_result"
    },
    {
     "data": {
      "image/png": "[encoded data removed]",
      "text/plain": [
       "<Figure size 432x288 with 2 Axes>"
      ]
     },
     "metadata": {
      "needs_background": "light"
     },
     "output_type": "display_data"
    }
   ],
   "source": [
    "print(classification_report(yts,SVC_prediksi))\n",
    "\n",
    "cm2 = confusion_matrix(yts,SVC_prediksi)\n",
    "sb.heatmap(pd.DataFrame(cm2),annot=True, cmap=\"BuPu\" ,fmt='g')\n",
    "plt.tight_layout()\n",
    "plt.title('Confusion matrix SVM', y=1.1)\n",
    "plt.ylabel('Actual label')\n",
    "plt.xlabel('Predicted label')"
   ]
  },
  {
   "cell_type": "markdown",
   "metadata": {},
   "source": [
    "### Create Joblib Model for Applications ###"
   ]
  },
  {
   "cell_type": "code",
   "execution_count": null,
   "metadata": {},
   "outputs": [],
   "source": [
    "import joblib"
   ]
  },
  {
   "cell_type": "code",
   "execution_count": null,
   "metadata": {},
   "outputs": [],
   "source": [
    "# joblib.dump(pipeline_RandomForest, 'model_subject')"
   ]
  },
  {
   "cell_type": "code",
   "execution_count": null,
   "metadata": {},
   "outputs": [],
   "source": []
  }
 ],
 "metadata": {
  "kernelspec": {
   "display_name": "Python 3",
   "language": "python",
   "name": "python3"
  },
  "language_info": {
   "codemirror_mode": {
    "name": "ipython",
    "version": 3
   },
   "file_extension": ".py",
   "mimetype": "text/x-python",
   "name": "python",
   "nbconvert_exporter": "python",
   "pygments_lexer": "ipython3",
   "version": "3.8.0"
  }
 },
 "nbformat": 4,
 "nbformat_minor": 4
}
